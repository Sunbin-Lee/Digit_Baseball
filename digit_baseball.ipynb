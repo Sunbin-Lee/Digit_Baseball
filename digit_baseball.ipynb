{
 "cells": [
  {
   "cell_type": "code",
   "execution_count": null,
   "id": "9976b6c3",
   "metadata": {},
   "outputs": [],
   "source": [
    "import random"
   ]
  },
  {
   "cell_type": "code",
   "execution_count": null,
   "id": "f26e31df",
   "metadata": {},
   "outputs": [],
   "source": [
    "sol = random.sample(range(0,10), 4)\n",
    "\n",
    "unsolved = True\n",
    "\n",
    "attempt = 0\n",
    "while unsolved:\n",
    "    attempt += 1\n",
    "    answer = input('Enter a 4 digit number :')\n",
    "    try:\n",
    "        answer = list(map(int, answer))\n",
    "        \n",
    "    except:\n",
    "        print('!!!! Your answer is not a 4 digit number')\n",
    "        continue\n",
    "        \n",
    "    if len(answer) != 4:\n",
    "        print('!!!! Your answer is not a 4 digit number')\n",
    "        continue\n",
    "    \n",
    "    if len(set(answer)) != 4:\n",
    "        print('!! There are overlapping digits')\n",
    "        continue\n",
    "    \n",
    "    ball = 0\n",
    "    strike = 0\n",
    "    for i, a in enumerate(answer):\n",
    "        for j, b in enumerate(sol):\n",
    "            if a == b:\n",
    "                if i == j:\n",
    "                    strike += 1\n",
    "                else:\n",
    "                    ball += 1\n",
    "\n",
    "    if strike == 4:\n",
    "        unsolved = False\n",
    "        print(f'correct! You tried {attempt} times')\n",
    "        continue\n",
    "                    \n",
    "    print(f'{strike} strike, {ball} ball')"
   ]
  },
  {
   "cell_type": "code",
   "execution_count": null,
   "id": "347fdea0",
   "metadata": {},
   "outputs": [],
   "source": []
  }
 ],
 "metadata": {
  "kernelspec": {
   "display_name": "Python 3.9.7 ('base')",
   "language": "python",
   "name": "python3"
  },
  "language_info": {
   "codemirror_mode": {
    "name": "ipython",
    "version": 3
   },
   "file_extension": ".py",
   "mimetype": "text/x-python",
   "name": "python",
   "nbconvert_exporter": "python",
   "pygments_lexer": "ipython3",
   "version": "3.9.7"
  },
  "vscode": {
   "interpreter": {
    "hash": "080593a50e5f8abd07b451c543f3b2e8bb2d19e975f253ad6cae3e4d1f3e3d77"
   }
  }
 },
 "nbformat": 4,
 "nbformat_minor": 5
}
